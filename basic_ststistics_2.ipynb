{
 "cells": [
  {
   "cell_type": "code",
   "execution_count": 1,
   "id": "eeb02aea",
   "metadata": {},
   "outputs": [],
   "source": [
    "#Estimation And Confidence Intervals\n",
    "import numpy as np\n",
    "from scipy.stats import t"
   ]
  },
  {
   "cell_type": "code",
   "execution_count": 2,
   "id": "fb8169f4",
   "metadata": {},
   "outputs": [],
   "source": [
    "data = np.array([1.13, 1.55, 1.43, 0.92, 1.25, 1.36, 1.32, 0.85, 1.07, 1.48, 1.20, 1.33, 1.18, 1.22, 1.29])\n",
    "sample_mean = np.mean(data)\n",
    "sample_std = np.std(data, ddof=1)  # ddof=1 for sample standard deviation\n",
    "sample_size = len(data)"
   ]
  },
  {
   "cell_type": "code",
   "execution_count": 3,
   "id": "a7b68cc0",
   "metadata": {},
   "outputs": [
    {
     "data": {
      "text/plain": [
       "1.2386666666666666"
      ]
     },
     "execution_count": 3,
     "metadata": {},
     "output_type": "execute_result"
    }
   ],
   "source": [
    "sample_mean"
   ]
  },
  {
   "cell_type": "code",
   "execution_count": 4,
   "id": "ce42ed14",
   "metadata": {},
   "outputs": [
    {
     "data": {
      "text/plain": [
       "0.19316412956959936"
      ]
     },
     "execution_count": 4,
     "metadata": {},
     "output_type": "execute_result"
    }
   ],
   "source": [
    "sample_std"
   ]
  },
  {
   "cell_type": "code",
   "execution_count": 5,
   "id": "77394630",
   "metadata": {},
   "outputs": [
    {
     "data": {
      "text/plain": [
       "15"
      ]
     },
     "execution_count": 5,
     "metadata": {},
     "output_type": "execute_result"
    }
   ],
   "source": [
    "sample_size"
   ]
  },
  {
   "cell_type": "code",
   "execution_count": 7,
   "id": "9b7823a9",
   "metadata": {},
   "outputs": [],
   "source": [
    "#confidence interval using standard deviation\n",
    "confidence_level = 0.99\n",
    "alpha = 1 - confidence_level\n",
    "t_value = t.ppf(1 - alpha/2, df=sample_size - 1)\n",
    "margin_of_error = t_value * sample_std / np.sqrt(sample_size)\n",
    "confidence_interval_a = (sample_mean - margin_of_error, sample_mean + margin_of_error)"
   ]
  },
  {
   "cell_type": "code",
   "execution_count": 8,
   "id": "88fc1e8e",
   "metadata": {},
   "outputs": [
    {
     "data": {
      "text/plain": [
       "(1.0901973384384906, 1.3871359948948425)"
      ]
     },
     "execution_count": 8,
     "metadata": {},
     "output_type": "execute_result"
    }
   ],
   "source": [
    "confidence_interval_a"
   ]
  },
  {
   "cell_type": "code",
   "execution_count": 9,
   "id": "da94b6ce",
   "metadata": {},
   "outputs": [],
   "source": [
    "#t-distribution\n",
    "population_std = 0.2\n",
    "z_value = t.ppf(1 - alpha/2, df=sample_size - 1)  \n",
    "margin_of_error_b = z_value * population_std / np.sqrt(sample_size)\n",
    "confidence_interval_b = (sample_mean - margin_of_error_b, sample_mean + margin_of_error_b)"
   ]
  },
  {
   "cell_type": "code",
   "execution_count": 10,
   "id": "37b3789c",
   "metadata": {},
   "outputs": [
    {
     "name": "stdout",
     "output_type": "stream",
     "text": [
      "a. Confidence Interval Using Sample Standard Deviation: (1.0901973384384906, 1.3871359948948425)\n",
      "b. Confidence Interval Using Known Population Standard Deviation: (1.0849431688733762, 1.392390164459957)\n"
     ]
    }
   ],
   "source": [
    "print(\"a. Confidence Interval Using Sample Standard Deviation:\", confidence_interval_a)\n",
    "print(\"b. Confidence Interval Using Known Population Standard Deviation:\", confidence_interval_b)"
   ]
  },
  {
   "cell_type": "code",
   "execution_count": null,
   "id": "a183a95f",
   "metadata": {},
   "outputs": [],
   "source": []
  }
 ],
 "metadata": {
  "kernelspec": {
   "display_name": "Python 3 (ipykernel)",
   "language": "python",
   "name": "python3"
  },
  "language_info": {
   "codemirror_mode": {
    "name": "ipython",
    "version": 3
   },
   "file_extension": ".py",
   "mimetype": "text/x-python",
   "name": "python",
   "nbconvert_exporter": "python",
   "pygments_lexer": "ipython3",
   "version": "3.11.4"
  }
 },
 "nbformat": 4,
 "nbformat_minor": 5
}
