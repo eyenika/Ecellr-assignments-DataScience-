{
 "cells": [
  {
   "cell_type": "code",
   "execution_count": 1,
   "id": "54695131",
   "metadata": {},
   "outputs": [],
   "source": [
    "from scipy import stats\n",
    "import numpy as np"
   ]
  },
  {
   "cell_type": "code",
   "execution_count": null,
   "id": "3196ea4f",
   "metadata": {},
   "outputs": [],
   "source": [
    "#To investigate the restaurant owners' claim about the increase in weekly operating costs using hypothesis testing."
   ]
  },
  {
   "cell_type": "code",
   "execution_count": 6,
   "id": "0a05d766",
   "metadata": {},
   "outputs": [],
   "source": [
    "#H0:The weekly operating cost follows this theoretical model\n",
    "# H1: The weekly operating cost are higher than the theoretical model\n",
    "\n",
    "#sample study\n",
    "sample_mean = 3050  # Sample mean weekly cost\n",
    "theoretical_mean = 1000 + (5 * 600)  # Model-based weekly cost\n",
    "sigma = 5 * 25  # Standard deviation\n",
    "n = 25  # Sample size\n",
    "alpha = 0.05  # Significance level\n"
   ]
  },
  {
   "cell_type": "code",
   "execution_count": 8,
   "id": "1f108284",
   "metadata": {},
   "outputs": [
    {
     "data": {
      "text/plain": [
       "-38.0"
      ]
     },
     "execution_count": 8,
     "metadata": {},
     "output_type": "execute_result"
    }
   ],
   "source": [
    "#z value\n",
    "z_stat = (sample_mean - theoretical_mean) / (sigma / np.sqrt(n))\n",
    "z_stat"
   ]
  },
  {
   "cell_type": "code",
   "execution_count": 10,
   "id": "5eef7f8c",
   "metadata": {},
   "outputs": [
    {
     "data": {
      "text/plain": [
       "1.6448536269514722"
      ]
     },
     "execution_count": 10,
     "metadata": {},
     "output_type": "execute_result"
    }
   ],
   "source": [
    "#critical value\n",
    "crit_value = stats.norm.ppf(1 - alpha)\n",
    "crit_value"
   ]
  },
  {
   "cell_type": "code",
   "execution_count": 13,
   "id": "51e0d855",
   "metadata": {},
   "outputs": [
    {
     "name": "stdout",
     "output_type": "stream",
     "text": [
      "Test Statistic (Z-score): -38.0000\n",
      "Critical Value: 1.6449\n"
     ]
    }
   ],
   "source": [
    "print(f\"Test Statistic (Z-score): {z_stat:.4f}\")\n",
    "print(f\"Critical Value: {crit_value:.4f}\")"
   ]
  },
  {
   "cell_type": "code",
   "execution_count": 15,
   "id": "33c180b6",
   "metadata": {},
   "outputs": [
    {
     "name": "stdout",
     "output_type": "stream",
     "text": [
      "Fail to reject the null hypothesis: No strong evidence for operating costs are higher\n"
     ]
    }
   ],
   "source": [
    "if z_stat > crit_value:\n",
    "    print(\"Reject the null hypothesis: The weekly operating costs significantly got higher than the model suggests\")\n",
    "else:\n",
    "    print(\"Fail to reject the null hypothesis: No strong evidence for operating costs are higher\")"
   ]
  },
  {
   "cell_type": "code",
   "execution_count": null,
   "id": "7f3c9150",
   "metadata": {},
   "outputs": [],
   "source": []
  }
 ],
 "metadata": {
  "kernelspec": {
   "display_name": "Python 3 (ipykernel)",
   "language": "python",
   "name": "python3"
  },
  "language_info": {
   "codemirror_mode": {
    "name": "ipython",
    "version": 3
   },
   "file_extension": ".py",
   "mimetype": "text/x-python",
   "name": "python",
   "nbconvert_exporter": "python",
   "pygments_lexer": "ipython3",
   "version": "3.11.4"
  }
 },
 "nbformat": 4,
 "nbformat_minor": 5
}
