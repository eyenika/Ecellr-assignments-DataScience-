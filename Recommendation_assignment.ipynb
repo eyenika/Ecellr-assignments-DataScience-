{
 "cells": [
  {
   "cell_type": "code",
   "execution_count": 2,
   "id": "4587c9b5",
   "metadata": {},
   "outputs": [
    {
     "name": "stdout",
     "output_type": "stream",
     "text": [
      "<class 'pandas.core.frame.DataFrame'>\n",
      "RangeIndex: 12294 entries, 0 to 12293\n",
      "Data columns (total 7 columns):\n",
      " #   Column    Non-Null Count  Dtype  \n",
      "---  ------    --------------  -----  \n",
      " 0   anime_id  12294 non-null  int64  \n",
      " 1   name      12294 non-null  object \n",
      " 2   genre     12232 non-null  object \n",
      " 3   type      12269 non-null  object \n",
      " 4   episodes  12294 non-null  object \n",
      " 5   rating    12064 non-null  float64\n",
      " 6   members   12294 non-null  int64  \n",
      "dtypes: float64(1), int64(2), object(4)\n",
      "memory usage: 672.5+ KB\n",
      "None\n",
      "   anime_id                              name  \\\n",
      "0     32281                    Kimi no Na wa.   \n",
      "1      5114  Fullmetal Alchemist: Brotherhood   \n",
      "2     28977                          Gintama°   \n",
      "3      9253                       Steins;Gate   \n",
      "4      9969                     Gintama&#039;   \n",
      "\n",
      "                                               genre   type episodes  rating  \\\n",
      "0               Drama, Romance, School, Supernatural  Movie        1    9.37   \n",
      "1  Action, Adventure, Drama, Fantasy, Magic, Mili...     TV       64    9.26   \n",
      "2  Action, Comedy, Historical, Parody, Samurai, S...     TV       51    9.25   \n",
      "3                                   Sci-Fi, Thriller     TV       24    9.17   \n",
      "4  Action, Comedy, Historical, Parody, Samurai, S...     TV       51    9.16   \n",
      "\n",
      "   members  \n",
      "0   200630  \n",
      "1   793665  \n",
      "2   114262  \n",
      "3   673572  \n",
      "4   151266  \n"
     ]
    }
   ],
   "source": [
    "#data preprocessing\n",
    "import pandas as pd\n",
    "\n",
    "# Loading the dataset\n",
    "df = pd.read_csv(\"anime.csv\")\n",
    "\n",
    "# basic information\n",
    "print(df.info())\n",
    "print(df.head())\n",
    "\n",
    "# Handling missing values\n",
    "df['genre'] = df['genre'].fillna('Unknown')\n",
    "df['rating'] = df['rating'].fillna(df['rating'].mean())\n",
    "df.dropna(inplace=True)"
   ]
  },
  {
   "cell_type": "code",
   "execution_count": 3,
   "id": "f51689cd",
   "metadata": {},
   "outputs": [
    {
     "name": "stderr",
     "output_type": "stream",
     "text": [
      "C:\\Users\\yasha\\AppData\\Local\\Programs\\Python\\Python311\\Lib\\site-packages\\sklearn\\feature_extraction\\text.py:521: UserWarning: The parameter 'token_pattern' will not be used since 'tokenizer' is not None'\n",
      "  warnings.warn(\n"
     ]
    }
   ],
   "source": [
    "#I used genre and rating columns to compute cosine similarit\n",
    "from sklearn.feature_extraction.text import CountVectorizer\n",
    "from sklearn.preprocessing import MinMaxScaler\n",
    "import scipy.sparse as sp\n",
    "\n",
    "# Genre vectorization\n",
    "vectorizer = CountVectorizer(tokenizer=lambda x: x.split(', '))\n",
    "genre_matrix = vectorizer.fit_transform(df['genre'])\n",
    "\n",
    "# Normalize ratings\n",
    "scaler = MinMaxScaler()\n",
    "rating_scaled = scaler.fit_transform(df[['rating']])\n",
    "\n",
    "# Combining genre and rating into one matrix\n",
    "features = sp.hstack([genre_matrix, rating_scaled])"
   ]
  },
  {
   "cell_type": "code",
   "execution_count": 4,
   "id": "13a96fc8",
   "metadata": {},
   "outputs": [
    {
     "name": "stdout",
     "output_type": "stream",
     "text": [
      "                                                   name  \\\n",
      "615                                  Naruto: Shippuuden   \n",
      "1103  Boruto: Naruto the Movie - Naruto ga Hokage ni...   \n",
      "486                            Boruto: Naruto the Movie   \n",
      "1343                                        Naruto x UT   \n",
      "1472        Naruto: Shippuuden Movie 4 - The Lost Tower   \n",
      "\n",
      "                                                  genre  rating  \n",
      "615   Action, Comedy, Martial Arts, Shounen, Super P...    7.94  \n",
      "1103  Action, Comedy, Martial Arts, Shounen, Super P...    7.68  \n",
      "486   Action, Comedy, Martial Arts, Shounen, Super P...    8.03  \n",
      "1343  Action, Comedy, Martial Arts, Shounen, Super P...    7.58  \n",
      "1472  Action, Comedy, Martial Arts, Shounen, Super P...    7.53  \n"
     ]
    }
   ],
   "source": [
    "from sklearn.metrics.pairwise import cosine_similarity\n",
    "import numpy as np\n",
    "\n",
    "# Computing cosine similarity\n",
    "cos_sim = cosine_similarity(features, features)\n",
    "\n",
    "# Recommendation function\n",
    "def recommend_anime(title, top_n=5):\n",
    "    if title not in df['name'].values:\n",
    "        return f\"'{title}' not found in the dataset.\"\n",
    "    \n",
    "    idx = df[df['name'] == title].index[0]\n",
    "    sim_scores = list(enumerate(cos_sim[idx]))\n",
    "    sim_scores = sorted(sim_scores, key=lambda x: x[1], reverse=True)[1:top_n+1]\n",
    "    indices = [i[0] for i in sim_scores]\n",
    "    return df[['name', 'genre', 'rating']].iloc[indices]\n",
    "\n",
    "# Example\n",
    "print(recommend_anime(\"Naruto\", top_n=5))"
   ]
  },
  {
   "cell_type": "code",
   "execution_count": null,
   "id": "820774d0",
   "metadata": {},
   "outputs": [],
   "source": [
    "#Difference between User-Based and Item-Based Collaborative Filtering?\n",
    "User-Based CF: Recommends items by finding similar users. \n",
    "    If User A likes items X and Y, and User B is similar to A, B is likely to like X and Y.\n",
    "\n",
    "Item-Based CF: Recommends items based on similarity between items. \n",
    "    If X and Y are often liked together, then users who like X will be recommended Y."
   ]
  },
  {
   "cell_type": "code",
   "execution_count": null,
   "id": "2be1f2b7",
   "metadata": {},
   "outputs": [],
   "source": [
    "#What is Collaborative Filtering and How Does It Work?\n",
    "Collaborative Filtering (CF) is a recommendation technique that suggests items by identifying user or item similarities based on interactions"
   ]
  }
 ],
 "metadata": {
  "kernelspec": {
   "display_name": "Python 3 (ipykernel)",
   "language": "python",
   "name": "python3"
  },
  "language_info": {
   "codemirror_mode": {
    "name": "ipython",
    "version": 3
   },
   "file_extension": ".py",
   "mimetype": "text/x-python",
   "name": "python",
   "nbconvert_exporter": "python",
   "pygments_lexer": "ipython3",
   "version": "3.11.4"
  }
 },
 "nbformat": 4,
 "nbformat_minor": 5
}
