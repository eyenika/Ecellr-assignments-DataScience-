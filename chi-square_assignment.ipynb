{
 "cells": [
  {
   "cell_type": "code",
   "execution_count": 1,
   "id": "d9e22a4e",
   "metadata": {},
   "outputs": [],
   "source": [
    "import pandas as pd\n",
    "import numpy as np"
   ]
  },
  {
   "cell_type": "code",
   "execution_count": 7,
   "id": "bde7ed24",
   "metadata": {},
   "outputs": [
    {
     "name": "stdout",
     "output_type": "stream",
     "text": [
      "                  smart_thermostat  smart_light\n",
      "very_satisfied                  50           70\n",
      "satisfied                       80          100\n",
      "neutral                         60           90\n",
      "unsatisfied                     30           50\n",
      "very_unsatisfied                20           50\n"
     ]
    }
   ],
   "source": [
    "lst = [[50, 70], [80, 100], [60, 90], [30, 50], [20, 50]]\n",
    "\n",
    "data = pd.DataFrame(lst,\n",
    "                    columns=['smart_thermostat', 'smart_light'],\n",
    "                    index=['very_satisfied', 'satisfied', 'neutral', 'unsatisfied', 'very_unsatisfied'])\n",
    "\n",
    "print(data)\n"
   ]
  },
  {
   "cell_type": "code",
   "execution_count": 15,
   "id": "047051e8",
   "metadata": {},
   "outputs": [
    {
     "name": "stdout",
     "output_type": "stream",
     "text": [
      "5.638227513227513 0.22784371130697179\n"
     ]
    }
   ],
   "source": [
    "from scipy.stats import chi2_contingency\n",
    "chi,p,dof,exp_freq=chi2_contingency(data)\n",
    "print(chi,p)"
   ]
  },
  {
   "cell_type": "code",
   "execution_count": null,
   "id": "70f3be63",
   "metadata": {},
   "outputs": [],
   "source": [
    "#as p value is less than null hypothesis we reject H0,that is accept H1.\n",
    "#hence we conclude that the they are dependent variables."
   ]
  }
 ],
 "metadata": {
  "kernelspec": {
   "display_name": "Python 3 (ipykernel)",
   "language": "python",
   "name": "python3"
  },
  "language_info": {
   "codemirror_mode": {
    "name": "ipython",
    "version": 3
   },
   "file_extension": ".py",
   "mimetype": "text/x-python",
   "name": "python",
   "nbconvert_exporter": "python",
   "pygments_lexer": "ipython3",
   "version": "3.11.4"
  }
 },
 "nbformat": 4,
 "nbformat_minor": 5
}
