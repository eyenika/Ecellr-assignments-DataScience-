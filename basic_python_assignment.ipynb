{
 "cells": [
  {
   "cell_type": "code",
   "execution_count": 1,
   "id": "0c9edc53",
   "metadata": {},
   "outputs": [
    {
     "name": "stdout",
     "output_type": "stream",
     "text": [
      "Enter a value: 23\n",
      "The value is prime.\n"
     ]
    }
   ],
   "source": [
    "#EXERCISE 1\n",
    "#prime number program.\n",
    "a=int(input(\"Enter a value: \")) #here we are asking the user for an input value to check wether its prime or not.\n",
    "if a%2==0:\n",
    "    print(\"The value is not prime.\") #prints if the value is not prime.\n",
    "else:\n",
    "    print(\"The value is prime.\") #prints if the value is prime."
   ]
  },
  {
   "cell_type": "code",
   "execution_count": 2,
   "id": "944fedc0",
   "metadata": {},
   "outputs": [
    {
     "name": "stdout",
     "output_type": "stream",
     "text": [
      "what is the product of 90 and 82 is:3458\n",
      "incorrect!.\n"
     ]
    }
   ],
   "source": [
    "#EXERCISE 2\n",
    "import random \n",
    "num1=random.randint(1,100) #generates first random number.\n",
    "num2=random.randint(1,100) #generates second random number.\n",
    "user_answer=int(input(f\"what is the product of {num1} and {num2} is:\")) #asks user for the product.\n",
    "if user_answer == num1*num2:\n",
    "    print(\"correct!.\") #prints if the user answer is correct.\n",
    "else:\n",
    "    print(\"incorrect!.\") #prints if the user answer is incorrect."
   ]
  },
  {
   "cell_type": "code",
   "execution_count": 4,
   "id": "e62e75ec",
   "metadata": {},
   "outputs": [
    {
     "name": "stdout",
     "output_type": "stream",
     "text": [
      "The square of 100 is 10000.\n",
      "The square of 102 is 10404.\n",
      "The square of 104 is 10816.\n",
      "The square of 106 is 11236.\n",
      "The square of 108 is 11664.\n",
      "The square of 110 is 12100.\n",
      "The square of 112 is 12544.\n",
      "The square of 114 is 12996.\n",
      "The square of 116 is 13456.\n",
      "The square of 118 is 13924.\n",
      "The square of 120 is 14400.\n",
      "The square of 122 is 14884.\n",
      "The square of 124 is 15376.\n",
      "The square of 126 is 15876.\n",
      "The square of 128 is 16384.\n",
      "The square of 130 is 16900.\n",
      "The square of 132 is 17424.\n",
      "The square of 134 is 17956.\n",
      "The square of 136 is 18496.\n",
      "The square of 138 is 19044.\n",
      "The square of 140 is 19600.\n",
      "The square of 142 is 20164.\n",
      "The square of 144 is 20736.\n",
      "The square of 146 is 21316.\n",
      "The square of 148 is 21904.\n",
      "The square of 150 is 22500.\n",
      "The square of 152 is 23104.\n",
      "The square of 154 is 23716.\n",
      "The square of 156 is 24336.\n",
      "The square of 158 is 24964.\n",
      "The square of 160 is 25600.\n",
      "The square of 162 is 26244.\n",
      "The square of 164 is 26896.\n",
      "The square of 166 is 27556.\n",
      "The square of 168 is 28224.\n",
      "The square of 170 is 28900.\n",
      "The square of 172 is 29584.\n",
      "The square of 174 is 30276.\n",
      "The square of 176 is 30976.\n",
      "The square of 178 is 31684.\n",
      "The square of 180 is 32400.\n",
      "The square of 182 is 33124.\n",
      "The square of 184 is 33856.\n",
      "The square of 186 is 34596.\n",
      "The square of 188 is 35344.\n",
      "The square of 190 is 36100.\n",
      "The square of 192 is 36864.\n",
      "The square of 194 is 37636.\n",
      "The square of 196 is 38416.\n",
      "The square of 198 is 39204.\n",
      "The square of 200 is 40000.\n"
     ]
    }
   ],
   "source": [
    "#EXERCISE 3\n",
    "start = 100\n",
    "end = 200\n",
    "\n",
    "for number in range(start, end + 1):\n",
    "    if number % 2 == 0:  # Check if the number is even\n",
    "        square = number ** 2\n",
    "        print(f\"The square of {number} is {square}.\")"
   ]
  },
  {
   "cell_type": "code",
   "execution_count": 5,
   "id": "5fc56a3f",
   "metadata": {},
   "outputs": [
    {
     "name": "stdout",
     "output_type": "stream",
     "text": [
      "Please enter a text: my name is yash\n",
      "Word counts:\n",
      "my: 1\n",
      "name: 1\n",
      "is: 1\n",
      "yash: 1\n"
     ]
    }
   ],
   "source": [
    "#EXERCISE 4\n",
    "#WORD COUNT\n",
    "def count_words(text):\n",
    "    # Spliting the text into words based on whitespace\n",
    "    words = text.split()\n",
    "    word_count = {} # Creating a dictionary to store word counts\n",
    "    for word in words:\n",
    "        # Converting to lowercase to make the count case-insensitive\n",
    "        word = word.lower()\n",
    "        if word in word_count:\n",
    "            word_count[word] += 1\n",
    "        else:\n",
    "            word_count[word] = 1\n",
    "            \n",
    "    return word_count\n",
    "\n",
    "def main():\n",
    "    user_input = input(\"Please enter a text: \")\n",
    "    word_count = count_words(user_input) # Counting the occurrences of each word\n",
    "    print(\"Word counts:\") #displays the outputs.\n",
    "    for word, count in word_count.items():\n",
    "        print(f\"{word}: {count}\")\n",
    "\n",
    "if __name__ == \"__main__\":\n",
    "    main()"
   ]
  },
  {
   "cell_type": "code",
   "execution_count": 6,
   "id": "32bc8729",
   "metadata": {},
   "outputs": [
    {
     "name": "stdout",
     "output_type": "stream",
     "text": [
      "Enter a string to check if it's a palindrome: 123\n",
      "\"123\" is not a palindrome.\n"
     ]
    }
   ],
   "source": [
    "#EXERCISE 5\n",
    "#CHECK THE PALINDROME\n",
    "def is_palindrome(s):\n",
    "    # Check if the string is equal to its reverse\n",
    "    return s == s[::-1]\n",
    "if __name__ == \"__main__\":\n",
    "    test_string = input(\"Enter a string to check if it's a palindrome: \")\n",
    "    if is_palindrome(test_string):\n",
    "        print(f'\"{test_string}\" is a palindrome.')\n",
    "    else:\n",
    "        print(f'\"{test_string}\" is not a palindrome.')"
   ]
  },
  {
   "cell_type": "code",
   "execution_count": null,
   "id": "bf1e7fd0",
   "metadata": {},
   "outputs": [],
   "source": []
  }
 ],
 "metadata": {
  "kernelspec": {
   "display_name": "Python 3 (ipykernel)",
   "language": "python",
   "name": "python3"
  },
  "language_info": {
   "codemirror_mode": {
    "name": "ipython",
    "version": 3
   },
   "file_extension": ".py",
   "mimetype": "text/x-python",
   "name": "python",
   "nbconvert_exporter": "python",
   "pygments_lexer": "ipython3",
   "version": "3.11.4"
  }
 },
 "nbformat": 4,
 "nbformat_minor": 5
}
